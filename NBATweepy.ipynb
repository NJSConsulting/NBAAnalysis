{
 "cells": [
  {
   "cell_type": "code",
   "execution_count": null,
   "metadata": {},
   "outputs": [],
   "source": [
    "import tweepy\n",
    "import json\n",
    "import ast\n",
    "from pprint import pprint\n",
    "auth = tweepy.OAuthHandler()\n",
    "# auth.set_access_token(access_token, access_token_secret)\n",
    "\n",
    "api = tweepy.API(auth,  parser=tweepy.parsers.JSONParser())\n",
    "tweetsPerQry = 100\n",
    "searchQuery = '@KingJames'\n",
    "retweet_filter='-filter:retweets'\n",
    "q=searchQuery+retweet_filter\n",
    "new_tweets = api.search(q=searchQuery, count=tweetsPerQry, since_id='1074872689834233859', show_user=True)\n",
    "print(len(new_tweets))\n",
    "# new_tweets\n",
    "\n",
    "# pprint (new_tweets[0].dtype)\n",
    "# # pprint(json.dumps(new_tweets))\n",
    "mystr = json.dumps(new_tweets)\n",
    "mydict = json.loads(mystr)\n",
    "mydict['statuses'][0]\n",
    "print(new_tweets)\n",
    "# 1074872689834233859"
   ]
  }
 ],
 "metadata": {
  "kernelspec": {
   "display_name": "Python 3",
   "language": "python",
   "name": "python3"
  },
  "language_info": {
   "codemirror_mode": {
    "name": "ipython",
    "version": 3
   },
   "file_extension": ".py",
   "mimetype": "text/x-python",
   "name": "python",
   "nbconvert_exporter": "python",
   "pygments_lexer": "ipython3",
   "version": "3.6.6"
  }
 },
 "nbformat": 4,
 "nbformat_minor": 2
}
