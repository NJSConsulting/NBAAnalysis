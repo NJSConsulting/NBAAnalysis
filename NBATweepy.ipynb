{
 "cells": [
  {
   "cell_type": "markdown",
   "metadata": {},
   "source": [
    "<h1>NBA Twitter</h1>"
   ]
  },
  {
   "cell_type": "markdown",
   "metadata": {},
   "source": [
    "<h2>Boilerplate module imports and variable initializations</h2>"
   ]
  },
  {
   "cell_type": "code",
   "execution_count": 1,
   "metadata": {},
   "outputs": [],
   "source": [
    "import tweepy\n",
    "from Resources import twitteruser,twitterpass,mysqlstr\n",
    "import json\n",
    "import ast\n",
    "import pandas as pd\n",
    "from pprint import pprint\n",
    "from datetime import datetime as dt\n",
    "from datetime import timedelta\n",
    "from nba_api.stats.endpoints import playergamelog\n",
    "\n",
    "#Data for Twitter API call\n",
    "auth = tweepy.OAuthHandler(twitteruser, twitterpass)\n",
    "\n",
    "# debug\n",
    "# print(len(new_tweets))\n",
    "# 1074872689834233859"
   ]
  },
  {
   "cell_type": "code",
   "execution_count": 2,
   "metadata": {},
   "outputs": [
    {
     "name": "stdout",
     "output_type": "stream",
     "text": [
      "D:\\HomeWork\\NBAAnalysis\n"
     ]
    }
   ],
   "source": [
    "import os\n",
    "print (os.getcwd())"
   ]
  },
  {
   "cell_type": "code",
   "execution_count": 3,
   "metadata": {},
   "outputs": [],
   "source": [
    "from sqlalchemy import create_engine, inspect\n",
    "import pymysql\n",
    "import sqlalchemy\n",
    "from sqlalchemy.ext.automap import automap_base\n",
    "from sqlalchemy.orm import Session\n",
    "\n",
    "pymysql.install_as_MySQLdb()\n",
    "\n",
    "# auth.set_access_token(access_token, access_token_secret)\n",
    "engine = create_engine(mysqlstr)\n",
    "conn = engine.connect()"
   ]
  },
  {
   "cell_type": "markdown",
   "metadata": {},
   "source": [
    "<h2>Define function to import player data and format for running APIs</h2>"
   ]
  },
  {
   "cell_type": "code",
   "execution_count": 4,
   "metadata": {},
   "outputs": [],
   "source": [
    "def importdata():\n",
    "    playerstatsfile = \"nba_2016_2017_100.csv\"\n",
    "    playerstats_df = pd.read_csv(playerstatsfile, encoding=\"ISO-8859-1\")\n",
    "    playerstats_trimmed_df = playerstats_df[[\"PLAYER_ID\",\"PLAYER_NAME\", \"TEAM_ABBREVIATION\",\"TWITTER_HANDLE\",\"ACTIVE_TWITTER_LAST_YEAR\"]]\n",
    "    playerstats_trimmed_df = playerstats_trimmed_df.set_index('PLAYER_ID')\n",
    "    playerstats_trimmed_df.to_csv(\"playerstats_trimmed_df.csv\", index=False, header=True)\n",
    "    playerstats_trimmed_df = playerstats_trimmed_df.loc[playerstats_trimmed_df['TWITTER_HANDLE']!='0',:]\n",
    "\n",
    "    playerstats_trimmed_df.count()\n",
    "\n",
    "    engine = create_engine(mysqlstr)\n",
    "    conn=engine.connect()\n",
    "    \n",
    "    playerstats_trimmed_df.to_sql('playerstats', conn, if_exists='append')"
   ]
  },
  {
   "cell_type": "markdown",
   "metadata": {},
   "source": [
    "<h2>Initialize SQL database</h2>"
   ]
  },
  {
   "cell_type": "code",
   "execution_count": 5,
   "metadata": {},
   "outputs": [
    {
     "name": "stderr",
     "output_type": "stream",
     "text": [
      "C:\\Users\\nsneed\\Anaconda3\\envs\\PythonData\\lib\\site-packages\\sqlalchemy\\ext\\declarative\\clsregistry.py:120: SAWarning: This declarative base already contains a class with the same class name and module name as sqlalchemy.ext.automap.player_game_stats, and will be replaced in the string-lookup table.\n",
      "  item.__name__\n",
      "C:\\Users\\nsneed\\Anaconda3\\envs\\PythonData\\lib\\site-packages\\sqlalchemy\\ext\\declarative\\clsregistry.py:120: SAWarning: This declarative base already contains a class with the same class name and module name as sqlalchemy.ext.automap.player_mentions, and will be replaced in the string-lookup table.\n",
      "  item.__name__\n",
      "C:\\Users\\nsneed\\Anaconda3\\envs\\PythonData\\lib\\site-packages\\sqlalchemy\\ext\\declarative\\clsregistry.py:120: SAWarning: This declarative base already contains a class with the same class name and module name as sqlalchemy.ext.automap.playerstats, and will be replaced in the string-lookup table.\n",
      "  item.__name__\n"
     ]
    }
   ],
   "source": [
    "Base = automap_base()\n",
    "Base.prepare(engine, reflect=True)\n",
    "mytables = Base.classes.keys()\n",
    "if 'playerstats' not in mytables:\n",
    "    engine.execute(\"CREATE TABLE playerstats (PLAYER_ID bigint(20) NOT NULL,PLAYER_NAME text,TEAM_ABBREVIATION text,TWITTER_HANDLE text,ACTIVE_TWITTER_LAST_YEAR bigint(20) DEFAULT NULL,  PRIMARY KEY (PLAYER_ID))\")\n",
    "    importdata()\n",
    "if 'player_game_stats' not in mytables:\n",
    "    engine.execute(\"CREATE TABLE player_game_stats (PLAYER_ID bigint(20) NOT NULL,GAME_DATE date NOT NULL,WL text,PTS bigint(20) DEFAULT NULL,PLUS_MINUS bigint(20) DEFAULT NULL, PRIMARY KEY (PLAYER_ID,GAME_DATE))\")\n",
    "if 'player_mentions' not in mytables:\n",
    "    engine.execute(\"CREATE TABLE player_mentions (CREATE_DATE date,CREATE_TIME text,TWITTER_USER text,RETWEETS bigint(20) DEFAULT NULL,FAVORITES bigint(20) DEFAULT NULL,PLAYER_ID bigint(20) NOT NULL,TWEETID bigint(20) NOT NULL, PRIMARY KEY (PLAYER_ID,TWEETID))\")\n",
    "\n",
    "Base.prepare(engine, reflect=True)\n",
    "    "
   ]
  },
  {
   "cell_type": "code",
   "execution_count": 6,
   "metadata": {},
   "outputs": [],
   "source": [
    "inspector = inspect(engine)"
   ]
  },
  {
   "cell_type": "markdown",
   "metadata": {},
   "source": [
    "<h2>Run the API against the cleaned stat table</h2>"
   ]
  },
  {
   "cell_type": "code",
   "execution_count": 7,
   "metadata": {},
   "outputs": [
    {
     "ename": "KeyboardInterrupt",
     "evalue": "",
     "output_type": "error",
     "traceback": [
      "\u001b[1;31m---------------------------------------------------------------------------\u001b[0m",
      "\u001b[1;31mKeyboardInterrupt\u001b[0m                         Traceback (most recent call last)",
      "\u001b[1;32m<ipython-input-7-04f24eadfc8b>\u001b[0m in \u001b[0;36m<module>\u001b[1;34m()\u001b[0m\n\u001b[0;32m     37\u001b[0m \u001b[1;33m\u001b[0m\u001b[0m\n\u001b[0;32m     38\u001b[0m \u001b[1;31m# run Twitter API for all tweets from current player above\u001b[0m\u001b[1;33m\u001b[0m\u001b[1;33m\u001b[0m\u001b[0m\n\u001b[1;32m---> 39\u001b[1;33m     \u001b[1;32mfor\u001b[0m \u001b[0mtweets\u001b[0m \u001b[1;32min\u001b[0m \u001b[0mtweepy\u001b[0m\u001b[1;33m.\u001b[0m\u001b[0mCursor\u001b[0m\u001b[1;33m(\u001b[0m\u001b[0mapi\u001b[0m\u001b[1;33m.\u001b[0m\u001b[0msearch\u001b[0m\u001b[1;33m,\u001b[0m\u001b[0mq\u001b[0m\u001b[1;33m=\u001b[0m\u001b[0mq\u001b[0m\u001b[1;33m,\u001b[0m\u001b[0mcount\u001b[0m\u001b[1;33m=\u001b[0m\u001b[1;36m100\u001b[0m\u001b[1;33m,\u001b[0m\u001b[0mresult_type\u001b[0m\u001b[1;33m=\u001b[0m\u001b[1;34m\"recent\"\u001b[0m\u001b[1;33m,\u001b[0m\u001b[0minclude_entities\u001b[0m\u001b[1;33m=\u001b[0m\u001b[1;32mTrue\u001b[0m\u001b[1;33m,\u001b[0m\u001b[0msince\u001b[0m\u001b[1;33m=\u001b[0m \u001b[0myesterdaydash\u001b[0m\u001b[1;33m,\u001b[0m \u001b[0muntil\u001b[0m\u001b[1;33m=\u001b[0m \u001b[0mtodaydash\u001b[0m\u001b[1;33m)\u001b[0m\u001b[1;33m.\u001b[0m\u001b[0mpages\u001b[0m\u001b[1;33m(\u001b[0m\u001b[1;33m)\u001b[0m\u001b[1;33m:\u001b[0m\u001b[1;33m\u001b[0m\u001b[0m\n\u001b[0m\u001b[0;32m     40\u001b[0m \u001b[1;31m# For each tweet, pull all relevant data\u001b[0m\u001b[1;33m\u001b[0m\u001b[1;33m\u001b[0m\u001b[0m\n\u001b[0;32m     41\u001b[0m         \u001b[1;32mfor\u001b[0m \u001b[0mtweet\u001b[0m \u001b[1;32min\u001b[0m \u001b[0mtweets\u001b[0m\u001b[1;33m:\u001b[0m\u001b[1;33m\u001b[0m\u001b[0m\n",
      "\u001b[1;32m~\\Anaconda3\\envs\\PythonData\\lib\\site-packages\\tweepy\\cursor.py\u001b[0m in \u001b[0;36m__next__\u001b[1;34m(self)\u001b[0m\n\u001b[0;32m     47\u001b[0m \u001b[1;33m\u001b[0m\u001b[0m\n\u001b[0;32m     48\u001b[0m     \u001b[1;32mdef\u001b[0m \u001b[0m__next__\u001b[0m\u001b[1;33m(\u001b[0m\u001b[0mself\u001b[0m\u001b[1;33m)\u001b[0m\u001b[1;33m:\u001b[0m\u001b[1;33m\u001b[0m\u001b[0m\n\u001b[1;32m---> 49\u001b[1;33m         \u001b[1;32mreturn\u001b[0m \u001b[0mself\u001b[0m\u001b[1;33m.\u001b[0m\u001b[0mnext\u001b[0m\u001b[1;33m(\u001b[0m\u001b[1;33m)\u001b[0m\u001b[1;33m\u001b[0m\u001b[0m\n\u001b[0m\u001b[0;32m     50\u001b[0m \u001b[1;33m\u001b[0m\u001b[0m\n\u001b[0;32m     51\u001b[0m     \u001b[1;32mdef\u001b[0m \u001b[0mnext\u001b[0m\u001b[1;33m(\u001b[0m\u001b[0mself\u001b[0m\u001b[1;33m)\u001b[0m\u001b[1;33m:\u001b[0m\u001b[1;33m\u001b[0m\u001b[0m\n",
      "\u001b[1;32m~\\Anaconda3\\envs\\PythonData\\lib\\site-packages\\tweepy\\cursor.py\u001b[0m in \u001b[0;36mnext\u001b[1;34m(self)\u001b[0m\n\u001b[0;32m    106\u001b[0m \u001b[1;33m\u001b[0m\u001b[0m\n\u001b[0;32m    107\u001b[0m         \u001b[1;32mif\u001b[0m \u001b[0mself\u001b[0m\u001b[1;33m.\u001b[0m\u001b[0mindex\u001b[0m \u001b[1;33m>=\u001b[0m \u001b[0mlen\u001b[0m\u001b[1;33m(\u001b[0m\u001b[0mself\u001b[0m\u001b[1;33m.\u001b[0m\u001b[0mresults\u001b[0m\u001b[1;33m)\u001b[0m \u001b[1;33m-\u001b[0m \u001b[1;36m1\u001b[0m\u001b[1;33m:\u001b[0m\u001b[1;33m\u001b[0m\u001b[0m\n\u001b[1;32m--> 108\u001b[1;33m             \u001b[0mdata\u001b[0m \u001b[1;33m=\u001b[0m \u001b[0mself\u001b[0m\u001b[1;33m.\u001b[0m\u001b[0mmethod\u001b[0m\u001b[1;33m(\u001b[0m\u001b[0mmax_id\u001b[0m\u001b[1;33m=\u001b[0m\u001b[0mself\u001b[0m\u001b[1;33m.\u001b[0m\u001b[0mmax_id\u001b[0m\u001b[1;33m,\u001b[0m \u001b[0mparser\u001b[0m\u001b[1;33m=\u001b[0m\u001b[0mRawParser\u001b[0m\u001b[1;33m(\u001b[0m\u001b[1;33m)\u001b[0m\u001b[1;33m,\u001b[0m \u001b[1;33m*\u001b[0m\u001b[0mself\u001b[0m\u001b[1;33m.\u001b[0m\u001b[0margs\u001b[0m\u001b[1;33m,\u001b[0m \u001b[1;33m**\u001b[0m\u001b[0mself\u001b[0m\u001b[1;33m.\u001b[0m\u001b[0mkargs\u001b[0m\u001b[1;33m)\u001b[0m\u001b[1;33m\u001b[0m\u001b[0m\n\u001b[0m\u001b[0;32m    109\u001b[0m \u001b[1;33m\u001b[0m\u001b[0m\n\u001b[0;32m    110\u001b[0m             \u001b[1;32mif\u001b[0m \u001b[0mhasattr\u001b[0m\u001b[1;33m(\u001b[0m\u001b[0mself\u001b[0m\u001b[1;33m.\u001b[0m\u001b[0mmethod\u001b[0m\u001b[1;33m,\u001b[0m \u001b[1;34m'__self__'\u001b[0m\u001b[1;33m)\u001b[0m\u001b[1;33m:\u001b[0m\u001b[1;33m\u001b[0m\u001b[0m\n",
      "\u001b[1;32m~\\Anaconda3\\envs\\PythonData\\lib\\site-packages\\tweepy\\binder.py\u001b[0m in \u001b[0;36m_call\u001b[1;34m(*args, **kwargs)\u001b[0m\n\u001b[0;32m    248\u001b[0m             \u001b[1;32mreturn\u001b[0m \u001b[0mmethod\u001b[0m\u001b[1;33m\u001b[0m\u001b[0m\n\u001b[0;32m    249\u001b[0m         \u001b[1;32melse\u001b[0m\u001b[1;33m:\u001b[0m\u001b[1;33m\u001b[0m\u001b[0m\n\u001b[1;32m--> 250\u001b[1;33m             \u001b[1;32mreturn\u001b[0m \u001b[0mmethod\u001b[0m\u001b[1;33m.\u001b[0m\u001b[0mexecute\u001b[0m\u001b[1;33m(\u001b[0m\u001b[1;33m)\u001b[0m\u001b[1;33m\u001b[0m\u001b[0m\n\u001b[0m\u001b[0;32m    251\u001b[0m \u001b[1;33m\u001b[0m\u001b[0m\n\u001b[0;32m    252\u001b[0m     \u001b[1;31m# Set pagination mode\u001b[0m\u001b[1;33m\u001b[0m\u001b[1;33m\u001b[0m\u001b[0m\n",
      "\u001b[1;32m~\\Anaconda3\\envs\\PythonData\\lib\\site-packages\\tweepy\\binder.py\u001b[0m in \u001b[0;36mexecute\u001b[1;34m(self)\u001b[0m\n\u001b[0;32m    162\u001b[0m                                     \u001b[1;32mif\u001b[0m \u001b[0mself\u001b[0m\u001b[1;33m.\u001b[0m\u001b[0mwait_on_rate_limit_notify\u001b[0m\u001b[1;33m:\u001b[0m\u001b[1;33m\u001b[0m\u001b[0m\n\u001b[0;32m    163\u001b[0m                                         \u001b[0mlog\u001b[0m\u001b[1;33m.\u001b[0m\u001b[0mwarning\u001b[0m\u001b[1;33m(\u001b[0m\u001b[1;34m\"Rate limit reached. Sleeping for: %d\"\u001b[0m \u001b[1;33m%\u001b[0m \u001b[0msleep_time\u001b[0m\u001b[1;33m)\u001b[0m\u001b[1;33m\u001b[0m\u001b[0m\n\u001b[1;32m--> 164\u001b[1;33m                                     \u001b[0mtime\u001b[0m\u001b[1;33m.\u001b[0m\u001b[0msleep\u001b[0m\u001b[1;33m(\u001b[0m\u001b[0msleep_time\u001b[0m \u001b[1;33m+\u001b[0m \u001b[1;36m5\u001b[0m\u001b[1;33m)\u001b[0m  \u001b[1;31m# sleep for few extra sec\u001b[0m\u001b[1;33m\u001b[0m\u001b[0m\n\u001b[0m\u001b[0;32m    165\u001b[0m \u001b[1;33m\u001b[0m\u001b[0m\n\u001b[0;32m    166\u001b[0m                 \u001b[1;31m# if self.wait_on_rate_limit and self._reset_time is not None and \\\u001b[0m\u001b[1;33m\u001b[0m\u001b[1;33m\u001b[0m\u001b[0m\n",
      "\u001b[1;31mKeyboardInterrupt\u001b[0m: "
     ]
    }
   ],
   "source": [
    "api = tweepy.API(auth, wait_on_rate_limit=True)\n",
    "page_count = 0\n",
    "\n",
    "# Pull player list from Bridge Table\n",
    "players = Base.classes.playerstats\n",
    "session = Session(engine) \n",
    "\n",
    "todaydash = (dt.today() - timedelta(2)).strftime('%Y-%m-%d')\n",
    "todayslash = (dt.today() - timedelta(2)).strftime('%m/%d/%Y')\n",
    "yesterdaydash = (dt.today() - timedelta(3)).strftime('%Y-%m-%d')\n",
    "yesterdayslash = (dt.today() - timedelta(3)).strftime('%m/%d/%Y')\n",
    "\n",
    "\n",
    "\n",
    "clear_player_mention_str = f\"Delete from player_mentions where CREATE_DATE='{yesterdaydash}'\"\n",
    "player_game_stats_str = f\"Delete from player_game_stats where GAME_DATE='{yesterdaydash}'\"\n",
    "\n",
    "engine.execute(clear_player_mention_str)\n",
    "engine.execute(player_game_stats_str)\n",
    "\n",
    "\n",
    "#initialize query from bridge table, pull in curernt player\n",
    "for player in session.query(players.PLAYER_ID,players.TWITTER_HANDLE).all():\n",
    "    TweetDay=[]\n",
    "    TweetTime=[]\n",
    "    user=[]\n",
    "    retweetcount=[]\n",
    "    favoritecount=[]\n",
    "    playerid=[]\n",
    "    text=[]\n",
    "    TweetID=[]\n",
    "    q = '@' + str(player[1])\n",
    "    q = q + '-filter:retweets'\n",
    "\n",
    "# Debug  \n",
    "#     print(q)\n",
    "\n",
    "# run Twitter API for all tweets from current player above\n",
    "    for tweets in tweepy.Cursor(api.search,q=q,count=100,result_type=\"recent\",include_entities=True,since= yesterdaydash, until= todaydash).pages():\n",
    "# For each tweet, pull all relevant data\n",
    "        for tweet in tweets:\n",
    "            mystr = json.dumps(tweet._json)\n",
    "            mydict = json.loads(mystr)\n",
    "            Createtime=dt.strptime(mydict['created_at'],'%a %b %d %H:%M:%S %z %Y')\n",
    "            TweetDay.append(Createtime.strftime('%Y-%m-%d'))\n",
    "            TweetTime.append(Createtime.strftime('%H:%M:%S'))\n",
    "            TweetID.append(mydict['id'])               \n",
    "            user.append(mydict['user']['screen_name'])\n",
    "            retweetcount.append(mydict['retweet_count'])\n",
    "            favoritecount.append(mydict['favorite_count'])\n",
    "            playerid.append(player[0])\n",
    "            text.append(mydict['text'])\n",
    "    df = pd.DataFrame({'Create_Date':TweetDay,'Create_Time':TweetTime, 'TWITTER_USER':user,'Retweets':retweetcount,'Favorites':favoritecount,  'PLAYER_ID':playerid,  'TweetID':TweetID})\n",
    "    df.set_index(['PLAYER_ID','TweetID'], inplace=True)\n",
    "#debug\n",
    "    df.head()\n",
    "    \n",
    "#Send pulled data to local sql environment\n",
    "    \n",
    "    df.to_sql('player_mentions', conn, if_exists='append')\n",
    " \n",
    "            \n"
   ]
  },
  {
   "cell_type": "code",
   "execution_count": null,
   "metadata": {},
   "outputs": [],
   "source": [
    "engine.execute(player_game_stats_str)\n",
    "for player in session.query(players.PLAYER_ID,players.TWITTER_HANDLE).all():\n",
    "    PGL = playergamelog.PlayerGameLog(player[0],date_from_nullable=yesterdayslash,date_to_nullable=yesterdayslash)\n",
    "    df2 = PGL.get_data_frames()[0]\n",
    "  \n",
    "    Playerstats = df2[['Player_ID','GAME_DATE','WL','PTS','PLUS_MINUS']]\n",
    "    Playerstats['GAME_DATE']=pd.to_datetime(Playerstats['GAME_DATE'], format='%b %d, %Y')\n",
    "    Playerstats = Playerstats.rename(index=str, columns={'Player_ID':'PLAYER_ID'})\n",
    "    Playerstats.set_index(['PLAYER_ID', 'GAME_DATE'], inplace=True)\n",
    "    Playerstats.to_sql('player_game_stats',conn,if_exists='append')       \n",
    "              "
   ]
  },
  {
   "cell_type": "code",
   "execution_count": null,
   "metadata": {},
   "outputs": [],
   "source": []
  }
 ],
 "metadata": {
  "kernelspec": {
   "display_name": "Python 3",
   "language": "python",
   "name": "python3"
  },
  "language_info": {
   "codemirror_mode": {
    "name": "ipython",
    "version": 3
   },
   "file_extension": ".py",
   "mimetype": "text/x-python",
   "name": "python",
   "nbconvert_exporter": "python",
   "pygments_lexer": "ipython3",
   "version": "3.6.6"
  }
 },
 "nbformat": 4,
 "nbformat_minor": 2
}
