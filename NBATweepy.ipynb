{
 "cells": [
  {
   "cell_type": "markdown",
   "metadata": {},
   "source": [
    "<h1>NBA Twitter</h1>"
   ]
  },
  {
   "cell_type": "markdown",
   "metadata": {},
   "source": [
    "<h2>Boilerplate module imports and variable initializations</h2>"
   ]
  },
  {
   "cell_type": "code",
   "execution_count": null,
   "metadata": {},
   "outputs": [],
   "source": [
    "import tweepy\n",
    "from Resources import twitteruser,twitterpass,mysqlstr\n",
    "import json\n",
    "import ast\n",
    "import pandas as pd\n",
    "from pprint import pprint\n",
    "from datetime import datetime as dt\n",
    "from datetime import timedelta\n",
    "from nba_api.stats.endpoints import playergamelog\n",
    "\n",
    "#Data for Twitter API call\n",
    "auth = tweepy.OAuthHandler(twitteruser, twitterpass)\n"
   ]
  },
  {
   "cell_type": "code",
   "execution_count": null,
   "metadata": {},
   "outputs": [],
   "source": [
    "from sqlalchemy import create_engine, inspect\n",
    "import pymysql\n",
    "import sqlalchemy\n",
    "from sqlalchemy.ext.automap import automap_base\n",
    "from sqlalchemy.orm import Session\n",
    "\n",
    "pymysql.install_as_MySQLdb()\n",
    "\n",
    "# auth.set_access_token(access_token, access_token_secret)\n",
    "engine = create_engine(mysqlstr)\n",
    "conn = engine.connect()"
   ]
  },
  {
   "cell_type": "markdown",
   "metadata": {},
   "source": [
    "<h2>Define function to import player data and format for running APIs</h2>"
   ]
  },
  {
   "cell_type": "code",
   "execution_count": null,
   "metadata": {},
   "outputs": [],
   "source": [
    "def importdata():\n",
    "    playerstatsfile = \"nba_2016_2017_100.csv\"\n",
    "    playerstats_df = pd.read_csv(playerstatsfile, encoding=\"ISO-8859-1\")\n",
    "    playerstats_trimmed_df = playerstats_df[[\"PLAYER_ID\",\"PLAYER_NAME\", \"TEAM_ABBREVIATION\",\"TWITTER_HANDLE\",\"ACTIVE_TWITTER_LAST_YEAR\"]]\n",
    "    playerstats_trimmed_df = playerstats_trimmed_df.set_index('PLAYER_ID')\n",
    "    playerstats_trimmed_df.to_csv(\"playerstats_trimmed_df.csv\", index=False, header=True)\n",
    "    playerstats_trimmed_df = playerstats_trimmed_df.loc[playerstats_trimmed_df['TWITTER_HANDLE']!='0',:]\n",
    "\n",
    "    playerstats_trimmed_df.count()\n",
    "\n",
    "    engine = create_engine(mysqlstr)\n",
    "    conn=engine.connect()\n",
    "    \n",
    "    playerstats_trimmed_df.to_sql('playerstats', conn, if_exists='append')"
   ]
  },
  {
   "cell_type": "markdown",
   "metadata": {},
   "source": [
    "<h2>Initialize SQL database</h2>"
   ]
  },
  {
   "cell_type": "code",
   "execution_count": null,
   "metadata": {},
   "outputs": [],
   "source": [
    "Base = automap_base()\n",
    "Base.prepare(engine, reflect=True)\n",
    "mytables = Base.classes.keys()\n",
    "if 'playerstats' not in mytables:\n",
    "    engine.execute(\"CREATE TABLE playerstats (PLAYER_ID bigint(20) NOT NULL,PLAYER_NAME text,TEAM_ABBREVIATION text,TWITTER_HANDLE text,ACTIVE_TWITTER_LAST_YEAR bigint(20) DEFAULT NULL,  PRIMARY KEY (PLAYER_ID))\")\n",
    "    importdata()\n",
    "if 'player_game_stats' not in mytables:\n",
    "    engine.execute(\"CREATE TABLE player_game_stats (PLAYER_ID bigint(20) NOT NULL,GAME_DATE date NOT NULL,WL text,PTS bigint(20) DEFAULT NULL,PLUS_MINUS bigint(20) DEFAULT NULL, PRIMARY KEY (PLAYER_ID,GAME_DATE))\")\n",
    "if 'player_mentions' not in mytables:\n",
    "    engine.execute(\"CREATE TABLE player_mentions (CREATE_DATE date,CREATE_TIME text,TWITTER_USER text,RETWEETS bigint(20) DEFAULT NULL,FAVORITES bigint(20) DEFAULT NULL,PLAYER_ID bigint(20) NOT NULL,TWEETID bigint(20) NOT NULL, PRIMARY KEY (PLAYER_ID,TWEETID))\")\n",
    "\n",
    "Base.prepare(engine, reflect=True)\n",
    "    "
   ]
  },
  {
   "cell_type": "code",
   "execution_count": null,
   "metadata": {},
   "outputs": [],
   "source": [
    "inspector = inspect(engine)"
   ]
  },
  {
   "cell_type": "markdown",
   "metadata": {},
   "source": [
    "<h2>Run the API against the cleaned stat table</h2>"
   ]
  },
  {
   "cell_type": "code",
   "execution_count": null,
   "metadata": {},
   "outputs": [],
   "source": [
    "api = tweepy.API(auth, wait_on_rate_limit=True)\n",
    "page_count = 0\n",
    "\n",
    "# Pull player list from Bridge Table\n",
    "players = Base.classes.playerstats\n",
    "session = Session(engine) \n",
    "\n",
    "todaydash = (dt.today()).strftime('%Y-%m-%d')\n",
    "todayslash = (dt.today()).strftime('%m/%d/%Y')\n",
    "yesterdaydash = (dt.today() - timedelta(1)).strftime('%Y-%m-%d')\n",
    "yesterdayslash = (dt.today() - timedelta(1)).strftime('%m/%d/%Y')\n",
    "\n",
    "\n",
    "\n",
    "clear_player_mention_str = f\"Delete from player_mentions where CREATE_DATE='{yesterdaydash}'\"\n",
    "player_game_stats_str = f\"Delete from player_game_stats where GAME_DATE='{yesterdaydash}'\"\n",
    "\n",
    "engine.execute(clear_player_mention_str)\n",
    "\n",
    "#initialize query from bridge table, pull in curernt player\n",
    "for player in session.query(players.PLAYER_ID,players.TWITTER_HANDLE).all():\n",
    "    TweetDay=[]\n",
    "    TweetTime=[]\n",
    "    user=[]\n",
    "    retweetcount=[]\n",
    "    favoritecount=[]\n",
    "    playerid=[]\n",
    "    text=[]\n",
    "    TweetID=[]\n",
    "    q = '@' + str(player[1])\n",
    "    q = q + '-filter:retweets'\n",
    "\n",
    "# Debug  \n",
    "#     print(q)\n",
    "\n",
    "# run Twitter API for all tweets from current player above\n",
    "    for tweets in tweepy.Cursor(api.search,q=q,count=100,result_type=\"recent\",include_entities=True,since= yesterdaydash, until= todaydash).pages():\n",
    "# For each tweet, pull all relevant data\n",
    "        for tweet in tweets:\n",
    "            mystr = json.dumps(tweet._json)\n",
    "            mydict = json.loads(mystr)\n",
    "            Createtime=dt.strptime(mydict['created_at'],'%a %b %d %H:%M:%S %z %Y')\n",
    "            TweetDay.append(Createtime.strftime('%Y-%m-%d'))\n",
    "            TweetTime.append(Createtime.strftime('%H:%M:%S'))\n",
    "            TweetID.append(mydict['id'])               \n",
    "            user.append(mydict['user']['screen_name'])\n",
    "            retweetcount.append(mydict['retweet_count'])\n",
    "            favoritecount.append(mydict['favorite_count'])\n",
    "            playerid.append(player[0])\n",
    "            text.append(mydict['text'])\n",
    "    df = pd.DataFrame({'Create_Date':TweetDay,'Create_Time':TweetTime, 'TWITTER_USER':user,'Retweets':retweetcount,'Favorites':favoritecount,  'PLAYER_ID':playerid,  'TweetID':TweetID})\n",
    "    df.set_index(['PLAYER_ID','TweetID'], inplace=True)\n",
    "#debug\n",
    "    df.head()\n",
    "    \n",
    "#Send pulled data to local sql environment\n",
    "    \n",
    "    df.to_sql('player_mentions', conn, if_exists='append')\n",
    " \n",
    "            \n"
   ]
  },
  {
   "cell_type": "code",
   "execution_count": null,
   "metadata": {},
   "outputs": [],
   "source": [
    "engine.execute(player_game_stats_str)\n",
    "for player in session.query(players.PLAYER_ID,players.TWITTER_HANDLE).all():\n",
    "    PGL = playergamelog.PlayerGameLog(player[0],date_from_nullable=yesterdayslash,date_to_nullable=yesterdayslash)\n",
    "    df2 = PGL.get_data_frames()[0]\n",
    "  \n",
    "    Playerstats = df2[['Player_ID','GAME_DATE','WL','PTS','PLUS_MINUS']]\n",
    "    Playerstats['GAME_DATE']=pd.to_datetime(Playerstats['GAME_DATE'], format='%b %d, %Y')\n",
    "    Playerstats = Playerstats.rename(index=str, columns={'Player_ID':'PLAYER_ID'})\n",
    "    Playerstats.set_index(['PLAYER_ID', 'GAME_DATE'], inplace=True)\n",
    "    Playerstats.to_sql('player_game_stats',conn,if_exists='append')       \n",
    "              "
   ]
  },
  {
   "cell_type": "code",
   "execution_count": null,
   "metadata": {},
   "outputs": [],
   "source": []
  }
 ],
 "metadata": {
  "kernelspec": {
   "display_name": "Python 3",
   "language": "python",
   "name": "python3"
  },
  "language_info": {
   "codemirror_mode": {
    "name": "ipython",
    "version": 3
   },
   "file_extension": ".py",
   "mimetype": "text/x-python",
   "name": "python",
   "nbconvert_exporter": "python",
   "pygments_lexer": "ipython3",
   "version": "3.6.6"
  }
 },
 "nbformat": 4,
 "nbformat_minor": 2
}
