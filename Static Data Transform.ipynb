{
 "cells": [
  {
   "cell_type": "code",
   "execution_count": 2,
   "metadata": {},
   "outputs": [],
   "source": [
    "import pandas as pd\n",
    "playerstatsfile = \"nba_2016_2017_100.csv\"\n",
    "playerstats_df = pd.read_csv(playerstatsfile, encoding=\"ISO-8859-1\")\n",
    "playerstats_trimmed_df = playerstats_df[[\"PLAYER_ID\",\"PLAYER_NAME\", \"TEAM_ABBREVIATION\",\"TWITTER_HANDLE\",\"ACTIVE_TWITTER_LAST_YEAR\"]]\n",
    "#playerstats_trimmed_df = playerstats_trimmed_df.set_index('PLAYER_ID')\n",
    "playerstats_trimmed_df.to_csv(\"playerstats_trimmed_df.csv\", index=False, header=True)"
   ]
  },
  {
   "cell_type": "code",
   "execution_count": null,
   "metadata": {},
   "outputs": [],
   "source": []
  }
 ],
 "metadata": {
  "kernelspec": {
   "display_name": "Python 3",
   "language": "python",
   "name": "python3"
  },
  "language_info": {
   "codemirror_mode": {
    "name": "ipython",
    "version": 3
   },
   "file_extension": ".py",
   "mimetype": "text/x-python",
   "name": "python",
   "nbconvert_exporter": "python",
   "pygments_lexer": "ipython3",
   "version": "3.6.6"
  }
 },
 "nbformat": 4,
 "nbformat_minor": 2
}
